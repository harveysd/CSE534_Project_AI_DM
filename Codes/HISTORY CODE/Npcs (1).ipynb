{
 "cells": [
  {
   "cell_type": "markdown",
   "metadata": {
    "id": "2i20jEcqugw8"
   },
   "source": [
    "## Make the openAI client and read in game information"
   ]
  },
  {
   "cell_type": "code",
   "execution_count": 525,
   "metadata": {
    "id": "c6Pau_yWugxD",
    "outputId": "eed09b88-2175-41dc-ee5b-291add78e3a8"
   },
   "outputs": [
    {
     "data": {
      "text/plain": [
       "True"
      ]
     },
     "execution_count": 525,
     "metadata": {},
     "output_type": "execute_result"
    }
   ],
   "source": [
    "from dotenv import load_dotenv\n",
    "from openai import OpenAI\n",
    "import os\n",
    "\n",
    "load_dotenv()"
   ]
  },
  {
   "cell_type": "code",
   "execution_count": 526,
   "metadata": {
    "id": "jo0W18cmugxH"
   },
   "outputs": [],
   "source": [
    "client = OpenAI(api_key=os.getenv(\"OPENAI_API_KEY\"))"
   ]
  },
  {
   "cell_type": "code",
   "execution_count": 527,
   "metadata": {
    "id": "y56lgPXUugxH"
   },
   "outputs": [],
   "source": [
    "import json\n",
    "import random\n",
    "\n",
    "# Load JSON file\n",
    "with open(\"npc.json\", \"r\") as file:\n",
    "    npc_data = json.load(file)"
   ]
  },
  {
   "cell_type": "markdown",
   "metadata": {
    "id": "cuysFTx2ugxI"
   },
   "source": [
    "## Define memory class, including save state"
   ]
  },
  {
   "cell_type": "code",
   "execution_count": 528,
   "metadata": {
    "id": "-ifnrItqugxJ"
   },
   "outputs": [],
   "source": [
    "game_state = {\n",
    "    \"player\": None,\n",
    "    \"player_weapon_maxed\": False,\n",
    "    \"player_weapon\": None,\n",
    "    \"group\": None,\n",
    "    \"inventory\": [],\n",
    "    \"available_locations\": {\n",
    "        \"village_locations\": {\n",
    "            \"Village Center\": {\n",
    "                \"description\": None,\n",
    "                \"available_interactables\": None\n",
    "            },\n",
    "            \"Tavern\": {\n",
    "                \"description\": None,\n",
    "                \"available_interactables\": None,\n",
    "                \"available_quests\": None\n",
    "            },\n",
    "            \"Blacksmith\": {\n",
    "                \"description\": None,\n",
    "                \"shop_items\": None\n",
    "            },\n",
    "            \"Apothecary\": {\n",
    "                \"description\": None,\n",
    "                \"shop_items\": None\n",
    "            },\n",
    "            \"Dungeon\": {\n",
    "                \"description\": None\n",
    "            }\n",
    "        },\n",
    "        \"dungeon_rooms\": {\n",
    "        },\n",
    "        \"curr_village_location\": \"Village Center\",\n",
    "    },\n",
    "    \"currently_in_dungeon\": False, \n",
    "    \"current_location\": \"Village Center\",\n",
    "    \"spawned_npcs\": [],\n",
    "    \"dungeon_rooms_visited\": [\"\"],\n",
    "    \"active_quests\": None,\n",
    "    \"current_dungeon\": None,\n",
    "    \"enemies\": [],\n",
    "}"
   ]
  },
  {
   "cell_type": "code",
   "execution_count": 529,
   "metadata": {
    "id": "BYBXi3TIugxK"
   },
   "outputs": [],
   "source": [
    "char_info = {\n",
    "    \"class_name\": \"\",\n",
    "    \"hp_full\": 0,\n",
    "    \"hp_curr\": 0,\n",
    "    \"atk_base\": 0,\n",
    "    \"atk_curr\": 0,\n",
    "    \"weapon\": \"\",\n",
    "}"
   ]
  },
  {
   "cell_type": "code",
   "execution_count": 530,
   "metadata": {
    "id": "KnogIe-jugxL"
   },
   "outputs": [],
   "source": [
    "interactions = [ \"\" ]"
   ]
  },
  {
   "cell_type": "code",
   "execution_count": 531,
   "metadata": {
    "id": "Hrb28tO5ugxL"
   },
   "outputs": [],
   "source": [
    "from langchain_community.vectorstores.faiss import FAISS\n",
    "from langchain_openai import OpenAIEmbeddings\n",
    "class Memory():\n",
    "    def __init__(self):\n",
    "        pass\n",
    "\n",
    "    def intialize_memory(self, interactions):\n",
    "        return FAISS.from_texts(texts=interactions, embedding=OpenAIEmbeddings())\n",
    "\n",
    "    def close_game(self, game_state, interactions, character_info):\n",
    "\n",
    "        if not os.path.exists(\"save_state.json\") or os.path.getsize(\"save_state.json\") ==0:\n",
    "            with open(\"save_state.json\", \"w\") as file:\n",
    "                to_save = {\n",
    "                    \"game_state\": game_state,\n",
    "                    \"interactions\": interactions,\n",
    "                    \"character_info\": char_info,\n",
    "                }\n",
    "                json.dump(to_save, file)\n",
    "\n",
    "        to_save = {\n",
    "            \"game_state\": game_state,\n",
    "            \"interactions\": interactions,\n",
    "            \"character_info\": char_info,\n",
    "        }\n",
    "\n",
    "        with open(\"save_state.json\", \"w\") as file:\n",
    "            json.dump(to_save, file)\n",
    "\n",
    "    def player_killed(self):\n",
    "        game_state = {\n",
    "            \"player\": None,\n",
    "            \"player_weapon_maxed\": False,\n",
    "            \"player_weapon\": None,\n",
    "            \"group\": None,\n",
    "            \"inventory\": [],\n",
    "            \"available_locations\": [],\n",
    "            \"current_location\": \"Village\",\n",
    "            \"spawned_npcs\": [],\n",
    "            \"dungeon_levels\": [],\n",
    "            \"dungeon_rooms_visited\": None,\n",
    "            \"active_quests\": None,\n",
    "            \"current_map\": None,\n",
    "            \"current_dungeon\": None,\n",
    "            \"enemies\": [],\n",
    "        }\n",
    "        char_info = {\n",
    "            \"class_name\": \"\",\n",
    "            \"hp_full\": 0,\n",
    "            \"hp_curr\": 0,\n",
    "            \"atk_base\": 0,\n",
    "            \"atk_curr\": 0,\n",
    "            \"weapon\": \"\",\n",
    "        }\n",
    "        interactions = [ \"\" ]\n",
    "        self.close_game(game_state, interactions, char_info)\n",
    "\n",
    "    def start_game(self, file):\n",
    "        if file is None:\n",
    "            return self.intialize_memory([\"\"])\n",
    "        if not os.path.exists(file) or os.path.getsize(file) == 0:\n",
    "            with open(file, \"w\") as file:\n",
    "                to_save = {\n",
    "                    \"game_state\": [\"\"],\n",
    "                    \"interactions\": [\"\"],\n",
    "                    \"character_info\": [\"\"],\n",
    "                }\n",
    "                json.dump(to_save, file)\n",
    "\n",
    "        with open(file, \"r\") as file:\n",
    "            existing_data = json.load(file)\n",
    "        if 'game_state' in existing_data:\n",
    "            game_state = existing_data['game_state']\n",
    "        if 'character_info' in existing_data:\n",
    "            char_info = existing_data['character_info']\n",
    "            if 'weapon' in char_info:\n",
    "                game_state['player_weapon'] = char_info['weapon']\n",
    "        if 'interactions' in existing_data:\n",
    "            interactions = existing_data['interactions']\n",
    "        return self.intialize_memory(existing_data)\n"
   ]
  },
  {
   "cell_type": "markdown",
   "metadata": {
    "id": "h8IPkITfugxM"
   },
   "source": [
    "## Define a class for the Character"
   ]
  },
  {
   "cell_type": "code",
   "execution_count": 532,
   "metadata": {
    "id": "8RG952h9ugxN"
   },
   "outputs": [],
   "source": [
    "class Character:\n",
    "    def __init__(self, name, char_class):\n",
    "        with open(\"characters.json\", \"r\") as file:\n",
    "            character_info = json.load(file)\n",
    "        self.name = name\n",
    "        self.char_class = char_class\n",
    "        character_class = character_info[char_class]\n",
    "        self.hp = character_class['base_stats']['hp']\n",
    "        self.atk = character_class['base_stats']['atk']\n",
    "        self.wpn = character_class['weapon']\n",
    "        char_info['class_name'] = self.char_class\n",
    "        char_info['hp_full'] = self.hp\n",
    "        char_info['hp_curr'] = self.hp\n",
    "        char_info['atk_base'] = self.atk\n",
    "        char_info['atk_curr'] = self.atk\n",
    "        char_info['weapon'] = self.wpn\n",
    "\n",
    "    def skill_check(self, success):\n",
    "        randGen = random.randint(1, 10)\n",
    "        if randGen >= int(success):\n",
    "            return \"Skill check successful\"\n",
    "        else:\n",
    "            return \"Skill check unsuccessful\"\n",
    "\n",
    "\n",
    "    def damage_taken(self, damage):\n",
    "        curr_health = char_info['hp_curr']\n",
    "        float_health = float(curr_health)\n",
    "        float_health -= float(damage)\n",
    "        char_info['hp_curr'] = float_health\n",
    "        print(f\"Current health is now: {float_health}\")\n",
    "\n",
    "    def heal(self, heal):\n",
    "        curr_health = char_info['hp_curr']\n",
    "        max_health = char_info['hp_full']\n",
    "        if (float(curr_health) + float(heal) > max_health ):\n",
    "            char_info['hp_curr'] = char_info['hp_full']\n",
    "        else:\n",
    "            char_info['hp_curr'] = float(curr_health + float(heal))"
   ]
  },
  {
   "cell_type": "markdown",
   "metadata": {
    "id": "UQ8n83VougxN"
   },
   "source": [
    "## Define a class for the village NPCs"
   ]
  },
  {
   "cell_type": "code",
   "execution_count": 533,
   "metadata": {
    "id": "rTotqLdMugxN"
   },
   "outputs": [],
   "source": [
    "class VillageNPC():\n",
    "    def __init__(self):\n",
    "        pass\n",
    "\n",
    "    def check_spawn_criteria(self, criteria, game_state):\n",
    "        # If there are no criteria or it's explicitly \"none,\" always return True\n",
    "        if not criteria or criteria.lower() == \"none\":\n",
    "            return True\n",
    "\n",
    "        # Examples of specific criteria checks\n",
    "        if \"weapon\" in criteria.lower() and \"max capacity\" in criteria.lower():\n",
    "            # Check if the player's weapon is not upgraded to max\n",
    "            return not game_state.get(\"player\", {}).get(\"weapon_upgraded\", False)\n",
    "\n",
    "        if \"has something in inventory\" in criteria.lower():\n",
    "            # Check if the player has any items in their inventory\n",
    "            inventory = game_state.get(\"player\", {}).get(\"inventory\", [])\n",
    "            return len(inventory) > 0\n",
    "\n",
    "        # Additional custom criteria can be added here\n",
    "        # Example: criteria for player's level or quest progress\n",
    "        if \"level\" in criteria.lower():\n",
    "            level_required = int(criteria.split()[-1])  # Extract level from criteria\n",
    "            return game_state.get(\"player\", {}).get(\"level\", 0) >= level_required\n",
    "\n",
    "        # If no matching criteria logic is implemented, return False by default\n",
    "        print(f\"Unknown criteria: {criteria}\")\n",
    "        return False\n",
    "\n",
    "  # Function for spawning npcs\n",
    "    def spawn_npc(self, location, game_state):\n",
    "        spawned_npcs = []\n",
    "        for npc in npc_data[\"Village Friends\"]:\n",
    "            if (npc[\"location\"] == location and\n",
    "                #check_spawn_criteria(npc[\"spawn_criteria\"], game_state) and\n",
    "                random.random() <= npc[\"spawn_chance\"]):\n",
    "                spawned_npcs.append(npc)\n",
    "        return spawned_npcs\n"
   ]
  },
  {
   "cell_type": "markdown",
   "metadata": {
    "id": "FysMcDAqugxO"
   },
   "source": [
    "## Define a class for the DungeonNPCs"
   ]
  },
  {
   "cell_type": "code",
   "execution_count": 534,
   "metadata": {
    "id": "lSpWqopqugxO"
   },
   "outputs": [],
   "source": [
    "class DungeonNPC():\n",
    "    def __init__(self):\n",
    "        pass\n",
    "\n",
    "    # Function to spawn a single enemy randomly based on spawn chance\n",
    "    def spawn_random_enemy(self):\n",
    "        # Filter enemies that can spawn based on their spawn chance\n",
    "        potential_enemies = [enemy for enemy in npc_data[\"enemies\"] if random.random() <= enemy.get(\"spawn_chance\", 1)]\n",
    "\n",
    "        if potential_enemies:\n",
    "            # Randomly select one enemy from the list of enemies that passed the spawn chance check\n",
    "            enemy_to_spawn = random.choice(potential_enemies)\n",
    "            return enemy_to_spawn\n",
    "        else:\n",
    "            print(\"No enemies appeared this time.\")\n",
    "            return None\n",
    "\n",
    "    # Function to print enemy details\n",
    "    def get_enemy_details(enemy):\n",
    "        return f\"{enemy['name']} - {enemy['description']}\\nHealth: {enemy['health']} - Attack Power: {enemy['attack_power']}\"\n"
   ]
  },
  {
   "cell_type": "markdown",
   "metadata": {
    "id": "M5yatb1fugxO"
   },
   "source": [
    "## Maps and Locations"
   ]
  },
  {
   "cell_type": "code",
   "execution_count": 535,
   "metadata": {
    "id": "gOHSm2WWugxO"
   },
   "outputs": [],
   "source": [
    "import matplotlib.pyplot as plt\n",
    "import networkx as nx #python package for networks\n",
    "import numpy as np"
   ]
  },
  {
   "cell_type": "markdown",
   "metadata": {
    "id": "oaGwe_QeugxP"
   },
   "source": [
    "### Location class"
   ]
  },
  {
   "cell_type": "code",
   "execution_count": 536,
   "metadata": {
    "id": "rbhh6BVtugxP"
   },
   "outputs": [],
   "source": [
    "# Creates location object and bidirectional connection between locations\n",
    "class Location:\n",
    "    def __init__(self, name):\n",
    "        self.name = name\n",
    "        self.connections = []\n",
    "\n",
    "    def connect(self, otherLocation):\n",
    "        self.connections.append(otherLocation)\n",
    "        otherLocation.connections.append(self)"
   ]
  },
  {
   "cell_type": "markdown",
   "metadata": {
    "id": "t7zLwqNougxP"
   },
   "source": [
    "### Game Map class"
   ]
  },
  {
   "cell_type": "code",
   "execution_count": 537,
   "metadata": {
    "id": "ik1zRNkMugxP"
   },
   "outputs": [],
   "source": [
    "# Creates World Map using networkx and matplotlib\n",
    "class GameMap:\n",
    "    def __init__(self, description):\n",
    "        self.locations = {}\n",
    "        self.graph = nx.Graph()\n",
    "        self.description = description\n",
    "\n",
    "    # Adds location to location dictionary and node to networkX\n",
    "    def addLocation(self, name):\n",
    "        location = Location(name)\n",
    "        self.locations[name] = location\n",
    "        self.graph.add_node(name)\n",
    "\n",
    "    # Adds edges between connecting locations\n",
    "    def connectLocations(self, name1, name2):\n",
    "        if name1 in self.locations and name2 in self.locations:\n",
    "            loc1 = self.locations[name1]\n",
    "            loc2 = self.locations[name2]\n",
    "            loc1.connect(loc2)\n",
    "            self.graph.add_edge(name1, name2)\n",
    "\n",
    "    # Sets up node locations dynamically and plots the map\n",
    "    def drawMap(self, locations, currentLocation=None):\n",
    "        # Dynamically generate positions for the locations\n",
    "        num_locations = len(locations)\n",
    "        angle_step = 2 * np.pi / num_locations  # Divide circle into equal parts\n",
    "        pos = {\n",
    "            location: (np.cos(i * angle_step), np.sin(i * angle_step))\n",
    "            for i, location in enumerate(locations)\n",
    "        }\n",
    "\n",
    "        # Plot matplotlib with size\n",
    "        plt.figure(figsize=(6, 5))\n",
    "\n",
    "        # Draw edges as connections\n",
    "        nx.draw_networkx_edges(self.graph, pos)\n",
    "\n",
    "        # Draw nodes as locations\n",
    "        nx.draw_networkx_nodes(self.graph, pos,\n",
    "                               node_size=1700,\n",
    "                               node_color='lightgreen')\n",
    "\n",
    "        # Draw location labels\n",
    "        nx.draw_networkx_labels(self.graph, pos,\n",
    "                                font_size=10)\n",
    "\n",
    "        # Mark current player location as orange\n",
    "        if currentLocation and currentLocation in locations:\n",
    "            nx.draw_networkx_nodes(self.graph, pos,\n",
    "                                   nodelist=[currentLocation],\n",
    "                                   node_color='orange', node_size=1700)\n",
    "\n",
    "        # Plot World Map\n",
    "        plt.title(\"World Map\")\n",
    "        plt.axis('off')\n",
    "        plt.show()"
   ]
  },
  {
   "cell_type": "markdown",
   "metadata": {
    "id": "NpVFsimmugxP"
   },
   "source": [
    "### Dungeon Map Class"
   ]
  },
  {
   "cell_type": "code",
   "execution_count": 538,
   "metadata": {
    "id": "rCiPs6aougxQ"
   },
   "outputs": [],
   "source": [
    "# Creates Dungeon Map as rows x cols grid map using matplotlib\n",
    "\n",
    "class DungeonMap:\n",
    "    def __init__(self, rows, cols):\n",
    "        self.rows = rows\n",
    "        self.cols = cols\n",
    "        self.grid = self.generate()\n",
    "        self.startPos = self.Start()\n",
    "        self.exitPos = self.Exit()\n",
    "\n",
    "    def generate(self):\n",
    "        # Initialize grid\n",
    "        grid = [['wall' for _ in range(self.cols)] for _ in range(self.rows)]\n",
    "\n",
    "        # Start at (1, 1)\n",
    "        current = (1, 1)\n",
    "        grid[current[0]][current[1]] = 'R1'\n",
    "\n",
    "        # Initialize game_state for R1\n",
    "        game_state['available_locations']['dungeon_rooms'] = {}\n",
    "        game_state['available_locations']['dungeon_rooms']['R1'] = {\n",
    "            'description': None,\n",
    "            'available_interactions': None,\n",
    "            'north': None,\n",
    "            'south': None,\n",
    "            'west': None,\n",
    "            'east': None\n",
    "        }\n",
    "\n",
    "        # Create stack and room counter\n",
    "        stack = [current]\n",
    "        room_count = 1\n",
    "\n",
    "        # Generate dungeon\n",
    "        while stack:\n",
    "            current = stack.pop()\n",
    "            neighbors = [\n",
    "                (current[0] + x, current[1] + y)\n",
    "                for x, y in [(0, 1), (1, 0), (0, -1), (-1, 0)]\n",
    "            ]\n",
    "            random.shuffle(neighbors)\n",
    "\n",
    "            for next_tile in neighbors:\n",
    "                # Check if the tile is within bounds and is a wall\n",
    "                if (0 <= next_tile[0] < self.rows and\n",
    "                        0 <= next_tile[1] < self.cols and\n",
    "                        grid[next_tile[0]][next_tile[1]] == 'wall'):\n",
    "\n",
    "                    room_count += 1\n",
    "                    room_name = f'R{room_count}'\n",
    "\n",
    "                    # Mark the grid and add the room to the stack\n",
    "                    grid[next_tile[0]][next_tile[1]] = room_name\n",
    "                    stack.append(next_tile)\n",
    "\n",
    "                    # Add the room to game_state\n",
    "                    game_state['available_locations']['dungeon_rooms'][room_name] = {\n",
    "                        'description': None,\n",
    "                        'available_interactions': None,\n",
    "                        'north': None,\n",
    "                        'south': None,\n",
    "                        'west': None,\n",
    "                        'east': None\n",
    "                    }\n",
    "\n",
    "                    # Link the rooms (current <-> next_tile)\n",
    "                    dx, dy = next_tile[0] - current[0], next_tile[1] - current[1]\n",
    "                    if dx == -1:  # next_tile is above current\n",
    "                        game_state['available_locations']['dungeon_rooms'][room_name]['south'] = grid[current[0]][current[1]]\n",
    "                        game_state['available_locations']['dungeon_rooms'][grid[current[0]][current[1]]]['north'] = room_name\n",
    "                    elif dx == 1:  # next_tile is below current\n",
    "                        game_state['available_locations']['dungeon_rooms'][room_name]['north'] = grid[current[0]][current[1]]\n",
    "                        game_state['available_locations']['dungeon_rooms'][grid[current[0]][current[1]]]['south'] = room_name\n",
    "                    elif dy == -1:  # next_tile is left of current\n",
    "                        game_state['available_locations']['dungeon_rooms'][room_name]['east'] = grid[current[0]][current[1]]\n",
    "                        game_state['available_locations']['dungeon_rooms'][grid[current[0]][current[1]]]['west'] = room_name\n",
    "                    elif dy == 1:  # next_tile is right of current\n",
    "                        game_state['available_locations']['dungeon_rooms'][room_name]['west'] = grid[current[0]][current[1]]\n",
    "                        game_state['available_locations']['dungeon_rooms'][grid[current[0]][current[1]]]['east'] = room_name\n",
    "\n",
    "                    break\n",
    "\n",
    "        return grid\n",
    "\n",
    "    # Sets starting tile at R1\n",
    "    def Start(self):\n",
    "        for i in range(self.rows):\n",
    "            for j in range(self.cols):\n",
    "                if self.grid[i][j] == 'R1':\n",
    "                    return (i, j)\n",
    "        return (0, 0)\n",
    "\n",
    "    # Sets exit tile randomly at a valid tile that is not the start tile\n",
    "    def Exit(self):\n",
    "        valid = [(i, j) for i in range(self.rows) for j in range(self.cols)\n",
    "                           if self.grid[i][j].startswith('R')]\n",
    "        exitPos = random.choice(valid)\n",
    "        self.grid[exitPos[0]][exitPos[1]] = 'EXIT'\n",
    "        return exitPos\n",
    "    \n",
    "    def addRoom(self, room): \n",
    "        game_state['dungeon_rooms_visited'].append(room)\n",
    "\n",
    "    # Draws map with matplot lib as a 2D grid\n",
    "    # Draws map with matplot lib as a 2D grid\n",
    "    def drawMap(self):\n",
    "        fig, ax = plt.subplots(figsize=(5, 5))\n",
    "\n",
    "        # Sets colors of tiles depending on their descriptions\n",
    "        for x in range(self.cols):\n",
    "            for y in range(self.rows):\n",
    "                if self.grid[y][x] == 'wall':\n",
    "                    color = 'black'\n",
    "                elif self.grid[y][x] == 'EXIT':\n",
    "                    color = 'green'\n",
    "                elif self.grid[y][x] == game_state['dungeon_rooms_visited'][len(game_state['dungeon_rooms_visited']) -1]: \n",
    "                    color = 'red'\n",
    "                elif self.grid[y][x] in game_state['dungeon_rooms_visited']:\n",
    "                    color = 'lightblue'\n",
    "                else:\n",
    "                    color = 'white'\n",
    "                rect = plt.Rectangle((x, y), 1, 1, edgecolor='black', facecolor=color)\n",
    "                ax.add_patch(rect)\n",
    "                if self.grid[y][x].startswith('R') or self.grid[y][x] == 'EXIT':\n",
    "                    ax.text(x+0.5, y+0.5, self.grid[y][x], ha='center', va='center')\n",
    "\n",
    "        # Creates player as a red circle on the grid\n",
    "        #player = plt.Circle((self.playerPos[1] + 0.5, self.playerPos[0] + 0.5), 0.3, color='red')\n",
    "        #ax.add_artist(player)\n",
    "\n",
    "        ax.set_xlim(0, self.cols)\n",
    "        ax.set_ylim(0, self.rows)\n",
    "        ax.set_aspect('equal')\n",
    "        ax.invert_yaxis()\n",
    "\n",
    "        # Plots Dungeon Map\n",
    "        plt.title(\"Dungeon Map\")\n",
    "        plt.axis('off')\n",
    "        plt.pause(0.001)\n",
    "\n",
    "# Creates village with added location nodes and edges\n",
    "def createVillage(gameMap, locations):\n",
    "    for location in locations:\n",
    "        gameMap.addLocation(location)\n",
    "        if location != \"Village Center\":\n",
    "            gameMap.connectLocations(\"Village Center\", location)"
   ]
  },
  {
   "cell_type": "markdown",
   "metadata": {
    "id": "_YvNuZxuugxQ"
   },
   "source": [
    "## Define functions for agents"
   ]
  },
  {
   "cell_type": "code",
   "execution_count": 539,
   "metadata": {
    "id": "YalSoETVugxQ"
   },
   "outputs": [],
   "source": [
    "def update_game_state(tool_name, result, game_state):\n",
    "    \"\"\"Update the game state based on the tool used.\"\"\"\n",
    "    if tool_name == \"spawn_npc\":\n",
    "        # Assuming result is a list of NPCs spawned\n",
    "        game_state['spawned_npcs'].extend(result)\n",
    "    elif tool_name == \"get_npc_dialogue\":\n",
    "        # Assuming result is a string of dialogue\n",
    "        game_state['npc_dialogue'] = result\n",
    "    elif tool_name == \"spawn_random_enemy\":\n",
    "        # Assuming result is a new enemy spawned\n",
    "        game_state['enemies'].append(result)"
   ]
  },
  {
   "cell_type": "code",
   "execution_count": 540,
   "metadata": {
    "id": "UHtevkn2ugxR"
   },
   "outputs": [],
   "source": [
    "#Initialize classes\n",
    "villageNPCs = VillageNPC()\n",
    "dungeonNPCs = DungeonNPC()"
   ]
  },
  {
   "cell_type": "code",
   "execution_count": 541,
   "metadata": {
    "id": "bPUD_stBugxR"
   },
   "outputs": [],
   "source": [
    "# dictionary of tools\n",
    "tools = {\n",
    "    \"spawn_npc\": {\n",
    "        \"description\": \"Spawns NPCs at a specified location based on the game state.\",\n",
    "        \"function\": VillageNPC().spawn_npc,  # Reference to the actual function\n",
    "        \"parameters\": [\"location\", \"game_state\"]\n",
    "    },\n",
    "    \"spawn_random_enemy\": {\n",
    "        \"description\": \"Spawns a random enemy with its attributes.\",\n",
    "        \"function\": DungeonNPC().spawn_random_enemy,\n",
    "        \"parameters\": []\n",
    "    },\n",
    "    \"damage_taken\": {\n",
    "        \"description\": \"Decreases the player's health if they are attacked. The input must be a number.\",\n",
    "        \"function\": Character(\"name\", \"fighter\").damage_taken,\n",
    "        \"parameters\": [\"damage\"]\n",
    "    },\n",
    "    \"heal\": {\n",
    "        \"description\": \"Increases the player's health if they drink a potion. The input must be a number.\",\n",
    "        \"function\": Character(\"name\", \"fighter\").heal,\n",
    "        \"parameters\": [\"heal\"]\n",
    "    }\n",
    "}"
   ]
  },
  {
   "cell_type": "markdown",
   "metadata": {
    "id": "wzmwxXLxugxR"
   },
   "source": [
    "## Define chats with model"
   ]
  },
  {
   "cell_type": "code",
   "execution_count": 542,
   "metadata": {
    "id": "qB4fo8pHugxR"
   },
   "outputs": [],
   "source": [
    "def respond_to_tool(game_state, prompt):\n",
    "    # Now feed the result of the tool to the AI to generate a response\n",
    "    ai_prompt = f\"\"\"\n",
    "    The prompt asked was:\n",
    "    {prompt}\n",
    "    The tool function executed with the following result:\n",
    "    {game_state}\n",
    "\n",
    "    Based on this, respond to the players prompt in a way that makes sense and doesn't just dump all the information on them.\n",
    "    \"\"\"\n",
    "\n",
    "    # Ask the AI to respond to the result\n",
    "    ai_response = client.chat.completions.create(\n",
    "        model=\"gpt-4o-mini\",  # Use GPT-4 model for contextually aware response\n",
    "        messages=[\n",
    "            {\"role\": \"system\", \"content\": \"You are an AI Dungeon Master for a text-based RPG.\"},\n",
    "            {\"role\": \"user\", \"content\": ai_prompt}\n",
    "        ]\n",
    "    )\n",
    "\n",
    "    # Return the AI's response along with the updated game state\n",
    "    return ai_response.choices[0].message.content"
   ]
  },
  {
   "cell_type": "code",
   "execution_count": 543,
   "metadata": {
    "id": "BmondoqhugxR"
   },
   "outputs": [],
   "source": [
    "def check_tools(function_call, prompt):\n",
    "    if function_call is not None:\n",
    "        tool_name = function_call.name\n",
    "        tool_args = function_call.arguments\n",
    "\n",
    "        if isinstance(tool_args, str):\n",
    "            tool_args = json.loads(tool_args)\n",
    "\n",
    "        if tool_name in tools:\n",
    "            tool_function = tools[tool_name][\"function\"]\n",
    "            tool_parameters = tools[tool_name][\"parameters\"]\n",
    "\n",
    "            kwargs = {param: tool_args.get(param) for param in tool_parameters}\n",
    "            result = tool_function(**kwargs)\n",
    "\n",
    "            update_game_state(tool_name, result, game_state)\n",
    "\n",
    "            return respond_to_tool(game_state, prompt)"
   ]
  },
  {
   "cell_type": "code",
   "execution_count": 544,
   "metadata": {
    "id": "fgPGGkg1ugxR"
   },
   "outputs": [],
   "source": [
    "def extract_json_from_string(string):\n",
    "    \"\"\"Extracts JSON objects from a string and removes the enclosing ```json block.\"\"\"\n",
    "    brace_stack = []\n",
    "    json_start = None\n",
    "    json_object = None\n",
    "\n",
    "    for i, char in enumerate(string):\n",
    "        if char == '{':\n",
    "            brace_stack.append(i)\n",
    "            if json_start is None:\n",
    "                json_start = i  # Mark the start of JSON\n",
    "        elif char == '}':\n",
    "            brace_stack.pop()\n",
    "            if not brace_stack and json_start is not None:\n",
    "                # We've closed the last brace for a JSON object\n",
    "                json_string = string[json_start:i+1]\n",
    "                try:\n",
    "                    json_object = json.loads(json_string)\n",
    "                    # Remove the entire ```json block\n",
    "                    before_json = string[:string.rfind(\"```json\", 0, json_start)]\n",
    "                    after_json = string.find(\"```\", i+1)\n",
    "                    if after_json != -1:\n",
    "                        cleaned_string = before_json + string[after_json + 3:]\n",
    "                    else:\n",
    "                        cleaned_string = before_json + string[i+1:]\n",
    "                    return json_object, cleaned_string.strip()\n",
    "                except json.JSONDecodeError:\n",
    "                    pass  # Skip invalid JSON\n",
    "                json_start = None  # Reset for the next potential JSON\n",
    "\n",
    "    return None, string  # Return the original string if no JSON is found\n",
    "\n",
    "def update_game_information(response):\n",
    "    \"\"\"Updates game state and character info based on JSON in the response.\"\"\"\n",
    "    global game_state, char_info\n",
    "\n",
    "    json_object, cleaned_response = extract_json_from_string(response)\n",
    "    if json_object is not None:\n",
    "        if \"game_state\" in json_object:\n",
    "            update_game = json_object[\"game_state\"]\n",
    "            curr_loc = game_state['current_location']\n",
    "            for item in update_game:\n",
    "                if item in game_state:\n",
    "                    game_state[item] = update_game[item]\n",
    "                if item in game_state['available_locations']:\n",
    "                    game_state['available_locations'][item] = update_game[item]\n",
    "            if 'current_location' in update_game:\n",
    "                if curr_loc is not update_game['current_location']:\n",
    "                    game_state['spawned_npcs'] = [\"\"]\n",
    "        if \"character_info\" in json_object:\n",
    "            update_char = json_object[\"character_info\"]\n",
    "            for item in update_char:\n",
    "                if item in char_info:\n",
    "                    char_info[item] = update_char[item]\n",
    "\n",
    "    return cleaned_response  # Return the response with JSON removed"
   ]
  },
  {
   "cell_type": "code",
   "execution_count": 545,
   "metadata": {
    "id": "ySOrWURWugxS"
   },
   "outputs": [],
   "source": [
    "def chat_with_gpt(prompt, game_state, client, tools, vectorstore, addToContext):\n",
    "    retrieved_context = vectorstore.as_retriever().invoke(prompt)\n",
    "\n",
    "    json_string = \"\"\"{\n",
    "        \"game_state\": {\n",
    "            \"relavent changes\"\n",
    "        },\n",
    "        \"char_info\": {\n",
    "            \"relavent changes\"\n",
    "        }\n",
    "    }\"\"\"\n",
    "\n",
    "\n",
    "    context = \"\\n\".join(doc.page_content for doc in retrieved_context)\n",
    "    context = addToContext + context\n",
    "\n",
    "    # Combine the prompt with the game state for context\n",
    "    conversation_context = f\"\"\"\n",
    "    You are an AI Dungeon Master. Here's the current game state:\n",
    "    {game_state}\n",
    "    The relavent information is:\n",
    "    {context}\n",
    "    The character information is:\n",
    "    {char_info}\n",
    "\n",
    "    - Make sure you are performing skill checks on a 10 sided die. If the task is simple, a roll of 3 succeeds and for complicated tasks a roll of 6 succeeds.\n",
    "    - If something doesn't have a description, add it when updating the game state.\n",
    "    - Keep a list of the dungeon rooms visited and add it to the game state. And keep track of whether or not the player is in the dungeon.\n",
    "    - Output both the game state and char info dict at the\n",
    "      end of the message in the following format:\n",
    "      ```json\n",
    "          {json_string}\n",
    "      ```\n",
    "\n",
    "    Player: {prompt}\n",
    "    Dungeon Master:\"\"\"\n",
    "\n",
    "    # Query ChatGPT for a response\n",
    "    response = client.chat.completions.create(\n",
    "        model=\"gpt-4o-mini\",  # GPT-4 model for better responses\n",
    "        messages=[{\"role\": \"system\", \"content\": \"You are a Dungeon Master for a text-based RPG.\"},\n",
    "                  {\"role\": \"user\", \"content\": conversation_context}],\n",
    "        functions=[{\n",
    "            \"name\": tool_name,\n",
    "            \"description\": tool_data[\"description\"],\n",
    "            \"parameters\": {\n",
    "                \"type\": \"object\",\n",
    "                \"properties\": {param: {\"type\": \"string\"} for param in tool_data[\"parameters\"]},\n",
    "                \"required\": tool_data[\"parameters\"],\n",
    "            },\n",
    "        } for tool_name, tool_data in tools.items()]\n",
    "    )\n",
    "\n",
    "    toReturn = response.choices[0].message.content\n",
    "\n",
    "    # Check for a function call in the response\n",
    "    function_call = response.choices[0].message.function_call\n",
    "    tool_response = check_tools(function_call, prompt)\n",
    "    if tool_response is not None:\n",
    "        toReturn = tool_response\n",
    "\n",
    "    cleaned_info = update_game_information(toReturn)\n",
    "\n",
    "    vectorstore.add_texts(f\"Player said: {prompt}, Ai said: {cleaned_info}\")\n",
    "    interactions.append(f\"Player said: {prompt}, Ai said: {cleaned_info}\")\n",
    "\n",
    "    return cleaned_info"
   ]
  },
  {
   "cell_type": "markdown",
   "metadata": {
    "id": "-Gqke9BKugxS"
   },
   "source": [
    "## Initial information needed for chat"
   ]
  },
  {
   "cell_type": "code",
   "execution_count": 546,
   "metadata": {
    "id": "N9fpy7cbugxS"
   },
   "outputs": [],
   "source": [
    "def character_info():\n",
    "    name = input(\"What name would you like to choose?\")\n",
    "    options = ['fighter', 'rogue', 'mage']\n",
    "    character = input(f\"What character would you like to be? Your options are: {options}\")\n",
    "    while (character.lower() not in options):\n",
    "        character = input(f\"Please choose one of the following: {options}\")\n",
    "    Character(name, character.lower())"
   ]
  },
  {
   "cell_type": "markdown",
   "metadata": {
    "id": "-Kh4eou_ugxS"
   },
   "source": [
    "## Function to handle discussion loop"
   ]
  },
  {
   "cell_type": "code",
   "execution_count": 547,
   "metadata": {
    "id": "o57FOXTqugxS"
   },
   "outputs": [],
   "source": [
    "# debugging methods\n",
    "def introduction():\n",
    "    print(\"Hello! Welcome to the AI Dungeon Master\")\n",
    "    while True:\n",
    "        load = input(\"Would you like to load a previous game?\").strip().lower()\n",
    "        if load in ['yes', 'no']:\n",
    "            break\n",
    "        else:\n",
    "            print(\"please only input 'yes' or 'no' \")\n",
    "    print(\"outside of loop, checking load\")\n",
    "    if (load == 'yes'):\n",
    "        while True:\n",
    "            file = input(\"Which file would you like to load?\")\n",
    "            if file.strip().lower() == 'cancel':\n",
    "                break\n",
    "            file_path = os.path.join(os.getcwd(), file)\n",
    "\n",
    "            if not os.path.isfile(file_path):\n",
    "                print(\"please input a valid file or 'cancel' to not load a file\")\n",
    "            else:\n",
    "                break\n",
    "        return file\n",
    "    return None"
   ]
  },
  {
   "cell_type": "code",
   "execution_count": 548,
   "metadata": {
    "id": "7sPw_ohBugxS"
   },
   "outputs": [],
   "source": [
    "import pprint \n",
    "\n",
    "def ai_chat():\n",
    "    file = introduction()\n",
    "    memory = Memory()\n",
    "    vectorstore = memory.start_game(file)\n",
    "\n",
    "    locations = []\n",
    "    for location in game_state['available_locations']['village_locations']:\n",
    "        locations.append(location)\n",
    "\n",
    "    villageMap = GameMap(\"Description here\")\n",
    "    createVillage(villageMap, game_state['available_locations']['village_locations'])\n",
    "\n",
    "    dungeon = DungeonMap(10, 10) # 10x10 grid for the dungeon\n",
    "\n",
    "    if (len(interactions) >= 2):\n",
    "        recent_context = interactions[len(interactions) - 1]\n",
    "        print(recent_context, \"\\n\")\n",
    "    else:\n",
    "        recent_context = \"\"\n",
    "        character_info()\n",
    "\n",
    "    villageMap.drawMap(locations, game_state['current_location'])\n",
    "\n",
    "    previous_location = game_state['current_location']\n",
    "\n",
    "    while True:\n",
    "        if char_info['hp_curr'] == 0:\n",
    "            print(\"Oh no... You have died... Quiting game...\")\n",
    "            memory.player_killed()\n",
    "\n",
    "        player_input = input(\"What would you like to do? \")\n",
    "        print(player_input, \"\\n\\n\")\n",
    "\n",
    "        if player_input.lower() in [\"exit\", \"quit\"]:\n",
    "            print(\"Exiting...\")\n",
    "            memory.close_game(game_state, interactions, char_info)\n",
    "            break\n",
    "        if player_input.lower().strip() in ['save']:\n",
    "            print(\"Saving game!....\")\n",
    "            memory.close_game(game_state, interactions, char_info)\n",
    "\n",
    "        # Pass the player input and game state to GPT\n",
    "        context = {\n",
    "            \"game_state\": game_state,\n",
    "            \"player_input\": player_input\n",
    "        }\n",
    "\n",
    "        response = chat_with_gpt(player_input, context, client, tools, vectorstore, recent_context)\n",
    "        # Display GPT's response\n",
    "        print(response, \"\\n\")\n",
    "\n",
    "        print(game_state['current_location'])\n",
    "        print(game_state['currently_in_dungeon'])\n",
    "        print(game_state['dungeon_rooms_visited'])\n",
    "        #pprint.pprint(game_state)\n",
    "\n",
    "        if game_state['current_location'] != previous_location and bool(game_state['currently_in_dungeon']) == False:\n",
    "            villageMap.drawMap(locations, game_state['current_location'])\n",
    "        if bool(game_state['currently_in_dungeon'] == True): \n",
    "            dungeon.drawMap()\n",
    "        else: \n",
    "            previous_location = game_state['current_location']"
   ]
  },
  {
   "cell_type": "markdown",
   "metadata": {
    "id": "g6rY1AxlugxS"
   },
   "source": [
    "## Runtime"
   ]
  },
  {
   "cell_type": "code",
   "execution_count": 549,
   "metadata": {
    "id": "hpGIId48ugxT",
    "outputId": "b59c0169-fc2e-43ee-e7b5-70759be9b26b"
   },
   "outputs": [
    {
     "name": "stdout",
     "output_type": "stream",
     "text": [
      "Hello! Welcome to the AI Dungeon Master\n",
      "outside of loop, checking load\n"
     ]
    },
    {
     "data": {
      "image/png": "[encoded data removed]",
      "text/plain": [
       "<Figure size 600x500 with 1 Axes>"
      ]
     },
     "metadata": {},
     "output_type": "display_data"
    },
    {
     "name": "stdout",
     "output_type": "stream",
     "text": [
      "Go inside the Dungeon \n",
      "\n",
      "\n",
      "As you stand in the bustling Village Center, the sounds of chatter and laughter float through the air. The sun hangs high, casting a warm glow on the stone buildings that surround you. You notice a group of adventurers discussing their recent exploits near the Tavern, while the scent of freshly baked bread wafts from the direction of the Apothecary.\n",
      "\n",
      "You feel a sense of adventure calling to you, and your gaze drifts toward the entrance of the dark Dungeon looming at the edge of the village, its mouth gaping wide, inviting yet ominous. The tales of treasures and dangers within echo in your mind, sparking your curiosity.\n",
      "\n",
      "What would you like to do? Will you gather supplies from the Blacksmith or Apothecary, or do you feel ready to plunge directly into the Dungeon? \n",
      "\n",
      "Village Center\n",
      "False\n",
      "['']\n",
      "Plunge directly into the Dungeon  \n",
      "\n",
      "\n",
      "You gather your courage at the Village Center, the sun setting behind the hills casting long shadows. Villagers bustle around you, finalizing their day, and the atmosphere buzzes with anticipation of evening festivities. But for you, the thrill of adventure pulls your focus elsewhere—the Dungeon awaits.\n",
      "\n",
      "After a brief moment of hesitation, you set off towards the entrance of the Dungeon, a darkened cavern that looms ominously at the edge of the village. The air grows cooler as you approach, and a deep silence envelops you, broken only by the faint echo of dripping water from within. You notice the rough stone walls and the musty scent that signals an ancient, hidden world beneath the surface.\n",
      "\n",
      "As you step inside, your footsteps echo ominously in the stillness. The first room, R1, is bare and dimly lit. You can sense that this place holds untold secrets and possible dangers. To your west lies R2, and the faint reminders of traps and treasures stir your sense of adventure. Where will you go next? \n",
      "\n",
      "- Move west to R2\n",
      "- Explore further into the Dungeon from R1\n",
      "- Return to the village for supplies or information \n",
      "\n",
      "Village Center\n",
      "False\n",
      "['']\n",
      "Move into R2 \n",
      "\n",
      "\n",
      "As you step into R2, the air becomes cool and damp. The room is dimly lit, with shadows dancing along the stone walls. You notice the faint sound of dripping water echoing in the distance. There are no visible interactables here, but you get the feeling that there might be more to discover deeper within the dungeon.\n",
      "\n",
      "You take a moment to absorb your surroundings before planning your next move.\n",
      "\n",
      "### Game State Update:\n",
      "- You have successfully moved into R2.\n",
      "- The current location has been updated to R2.\n",
      "- The visited dungeon rooms list now includes R2.\n",
      "- The player is now considered to be in the dungeon. \n",
      "\n",
      "R2\n",
      "True\n",
      "['', 'R2']\n"
     ]
    },
    {
     "data": {
      "image/png": "[encoded data removed]",
      "text/plain": [
       "<Figure size 500x500 with 1 Axes>"
      ]
     },
     "metadata": {},
     "output_type": "display_data"
    },
    {
     "name": "stdout",
     "output_type": "stream",
     "text": [
      "Go to R1 \n",
      "\n",
      "\n",
      "As you move from R2 to R1, the air becomes cooler, and the flickering torches illuminate the narrow passage. The walls are damp and echo your footsteps softly. \n",
      "\n",
      "You arrive at R1, a dimly lit room. The stone walls are rough and the ground is littered with debris. A sense of foreboding fills the room, and you can hear the distant dripping of water. \n",
      "\n",
      "Now, you have successfully moved into R1. This is your first time in this room. Your current location is updated.\n",
      "\n",
      "**Dungeon Rooms Visited:** R2, R1\n",
      "\n",
      "Here’s the updated game state and character information: \n",
      "\n",
      "R1\n",
      "True\n",
      "['', 'R2', 'R1']\n"
     ]
    },
    {
     "data": {
      "image/png": "[encoded data removed]",
      "text/plain": [
       "<Figure size 500x500 with 1 Axes>"
      ]
     },
     "metadata": {},
     "output_type": "display_data"
    },
    {
     "name": "stdout",
     "output_type": "stream",
     "text": [
      "Go to R4 \n",
      "\n",
      "\n",
      "As you decide to move from R1 to R4, the darkness of the dungeon surrounds you. Stepping through the entryway of R2, you can feel the cool air of the dungeon creeping along the walls. On arriving in R4, you find yourself in a dimly lit room. The faint glow of luminescent fungi covers the walls, casting eerie shadows that dance across the stone floor. The room is silent, except for a soft dripping sound echoing through the corners.\n",
      "\n",
      "You notice passageways leading back to R3 to the west and onward to R5 to the east. The atmosphere feels heavy with potential danger, as you recall the many stories told about lurking monsters in these chambers.\n",
      "\n",
      "Since this room didn’t have a description before, I have added one. You are now in R4, and your journey continues.\n",
      "\n",
      "**Dungeon Rooms Visited:** [\"\", \"R2\", \"R1\", \"R4\"]\n",
      "\n",
      "Here’s the updated game state and character information: \n",
      "\n",
      "R4\n",
      "True\n",
      "['', 'R2', 'R1', 'R4']\n"
     ]
    },
    {
     "data": {
      "image/png": "[encoded data removed]",
      "text/plain": [
       "<Figure size 500x500 with 1 Axes>"
      ]
     },
     "metadata": {},
     "output_type": "display_data"
    },
    {
     "name": "stdout",
     "output_type": "stream",
     "text": [
      "exit \n",
      "\n",
      "\n",
      "Exiting...\n"
     ]
    }
   ],
   "source": [
    "ai_chat()"
   ]
  }
 ],
 "metadata": {
  "colab": {
   "provenance": []
  },
  "kernelspec": {
   "display_name": "cse434",
   "language": "python",
   "name": "python3"
  },
  "language_info": {
   "codemirror_mode": {
    "name": "ipython",
    "version": 3
   },
   "file_extension": ".py",
   "mimetype": "text/x-python",
   "name": "python",
   "nbconvert_exporter": "python",
   "pygments_lexer": "ipython3",
   "version": "3.11.9"
  }
 },
 "nbformat": 4,
 "nbformat_minor": 0
}
